{
  "cells": [
    {
      "cell_type": "code",
      "execution_count": 2,
      "metadata": {
        "id": "IY1SoATIVNWe",
        "outputId": "d042d884-5cb4-4ded-ea31-58c378cdb840",
        "colab": {
          "base_uri": "https://localhost:8080/"
        }
      },
      "outputs": [
        {
          "output_type": "stream",
          "name": "stdout",
          "text": [
            "Collecting langchain_openai\n",
            "  Downloading langchain_openai-0.3.18-py3-none-any.whl.metadata (2.3 kB)\n",
            "Requirement already satisfied: langchain_core in /usr/local/lib/python3.11/dist-packages (0.3.60)\n",
            "Collecting langchain_core\n",
            "  Downloading langchain_core-0.3.63-py3-none-any.whl.metadata (5.8 kB)\n",
            "Requirement already satisfied: langchain in /usr/local/lib/python3.11/dist-packages (0.3.25)\n",
            "Requirement already satisfied: openai<2.0.0,>=1.68.2 in /usr/local/lib/python3.11/dist-packages (from langchain_openai) (1.81.0)\n",
            "Requirement already satisfied: tiktoken<1,>=0.7 in /usr/local/lib/python3.11/dist-packages (from langchain_openai) (0.9.0)\n",
            "Requirement already satisfied: langsmith<0.4,>=0.1.126 in /usr/local/lib/python3.11/dist-packages (from langchain_core) (0.3.42)\n",
            "Requirement already satisfied: tenacity!=8.4.0,<10.0.0,>=8.1.0 in /usr/local/lib/python3.11/dist-packages (from langchain_core) (9.1.2)\n",
            "Requirement already satisfied: jsonpatch<2.0,>=1.33 in /usr/local/lib/python3.11/dist-packages (from langchain_core) (1.33)\n",
            "Requirement already satisfied: PyYAML>=5.3 in /usr/local/lib/python3.11/dist-packages (from langchain_core) (6.0.2)\n",
            "Requirement already satisfied: packaging<25,>=23.2 in /usr/local/lib/python3.11/dist-packages (from langchain_core) (24.2)\n",
            "Requirement already satisfied: typing-extensions>=4.7 in /usr/local/lib/python3.11/dist-packages (from langchain_core) (4.13.2)\n",
            "Requirement already satisfied: pydantic>=2.7.4 in /usr/local/lib/python3.11/dist-packages (from langchain_core) (2.11.4)\n",
            "Requirement already satisfied: langchain-text-splitters<1.0.0,>=0.3.8 in /usr/local/lib/python3.11/dist-packages (from langchain) (0.3.8)\n",
            "Requirement already satisfied: SQLAlchemy<3,>=1.4 in /usr/local/lib/python3.11/dist-packages (from langchain) (2.0.41)\n",
            "Requirement already satisfied: requests<3,>=2 in /usr/local/lib/python3.11/dist-packages (from langchain) (2.32.3)\n",
            "Requirement already satisfied: jsonpointer>=1.9 in /usr/local/lib/python3.11/dist-packages (from jsonpatch<2.0,>=1.33->langchain_core) (3.0.0)\n",
            "Requirement already satisfied: httpx<1,>=0.23.0 in /usr/local/lib/python3.11/dist-packages (from langsmith<0.4,>=0.1.126->langchain_core) (0.28.1)\n",
            "Requirement already satisfied: orjson<4.0.0,>=3.9.14 in /usr/local/lib/python3.11/dist-packages (from langsmith<0.4,>=0.1.126->langchain_core) (3.10.18)\n",
            "Requirement already satisfied: requests-toolbelt<2.0.0,>=1.0.0 in /usr/local/lib/python3.11/dist-packages (from langsmith<0.4,>=0.1.126->langchain_core) (1.0.0)\n",
            "Requirement already satisfied: zstandard<0.24.0,>=0.23.0 in /usr/local/lib/python3.11/dist-packages (from langsmith<0.4,>=0.1.126->langchain_core) (0.23.0)\n",
            "Requirement already satisfied: anyio<5,>=3.5.0 in /usr/local/lib/python3.11/dist-packages (from openai<2.0.0,>=1.68.2->langchain_openai) (4.9.0)\n",
            "Requirement already satisfied: distro<2,>=1.7.0 in /usr/local/lib/python3.11/dist-packages (from openai<2.0.0,>=1.68.2->langchain_openai) (1.9.0)\n",
            "Requirement already satisfied: jiter<1,>=0.4.0 in /usr/local/lib/python3.11/dist-packages (from openai<2.0.0,>=1.68.2->langchain_openai) (0.10.0)\n",
            "Requirement already satisfied: sniffio in /usr/local/lib/python3.11/dist-packages (from openai<2.0.0,>=1.68.2->langchain_openai) (1.3.1)\n",
            "Requirement already satisfied: tqdm>4 in /usr/local/lib/python3.11/dist-packages (from openai<2.0.0,>=1.68.2->langchain_openai) (4.67.1)\n",
            "Requirement already satisfied: annotated-types>=0.6.0 in /usr/local/lib/python3.11/dist-packages (from pydantic>=2.7.4->langchain_core) (0.7.0)\n",
            "Requirement already satisfied: pydantic-core==2.33.2 in /usr/local/lib/python3.11/dist-packages (from pydantic>=2.7.4->langchain_core) (2.33.2)\n",
            "Requirement already satisfied: typing-inspection>=0.4.0 in /usr/local/lib/python3.11/dist-packages (from pydantic>=2.7.4->langchain_core) (0.4.1)\n",
            "Requirement already satisfied: charset-normalizer<4,>=2 in /usr/local/lib/python3.11/dist-packages (from requests<3,>=2->langchain) (3.4.2)\n",
            "Requirement already satisfied: idna<4,>=2.5 in /usr/local/lib/python3.11/dist-packages (from requests<3,>=2->langchain) (3.10)\n",
            "Requirement already satisfied: urllib3<3,>=1.21.1 in /usr/local/lib/python3.11/dist-packages (from requests<3,>=2->langchain) (2.4.0)\n",
            "Requirement already satisfied: certifi>=2017.4.17 in /usr/local/lib/python3.11/dist-packages (from requests<3,>=2->langchain) (2025.4.26)\n",
            "Requirement already satisfied: greenlet>=1 in /usr/local/lib/python3.11/dist-packages (from SQLAlchemy<3,>=1.4->langchain) (3.2.2)\n",
            "Requirement already satisfied: regex>=2022.1.18 in /usr/local/lib/python3.11/dist-packages (from tiktoken<1,>=0.7->langchain_openai) (2024.11.6)\n",
            "Requirement already satisfied: httpcore==1.* in /usr/local/lib/python3.11/dist-packages (from httpx<1,>=0.23.0->langsmith<0.4,>=0.1.126->langchain_core) (1.0.9)\n",
            "Requirement already satisfied: h11>=0.16 in /usr/local/lib/python3.11/dist-packages (from httpcore==1.*->httpx<1,>=0.23.0->langsmith<0.4,>=0.1.126->langchain_core) (0.16.0)\n",
            "Downloading langchain_openai-0.3.18-py3-none-any.whl (63 kB)\n",
            "\u001b[2K   \u001b[90m━━━━━━━━━━━━━━━━━━━━━━━━━━━━━━━━━━━━━━━━\u001b[0m \u001b[32m63.4/63.4 kB\u001b[0m \u001b[31m1.2 MB/s\u001b[0m eta \u001b[36m0:00:00\u001b[0m\n",
            "\u001b[?25hDownloading langchain_core-0.3.63-py3-none-any.whl (438 kB)\n",
            "\u001b[2K   \u001b[90m━━━━━━━━━━━━━━━━━━━━━━━━━━━━━━━━━━━━━━━━\u001b[0m \u001b[32m438.5/438.5 kB\u001b[0m \u001b[31m17.2 MB/s\u001b[0m eta \u001b[36m0:00:00\u001b[0m\n",
            "\u001b[?25hInstalling collected packages: langchain_core, langchain_openai\n",
            "  Attempting uninstall: langchain_core\n",
            "    Found existing installation: langchain-core 0.3.60\n",
            "    Uninstalling langchain-core-0.3.60:\n",
            "      Successfully uninstalled langchain-core-0.3.60\n",
            "Successfully installed langchain_core-0.3.63 langchain_openai-0.3.18\n"
          ]
        }
      ],
      "source": [
        "! pip install langchain_openai langchain_core langchain -U"
      ]
    },
    {
      "cell_type": "markdown",
      "source": [
        "# Output parsers\n",
        "The information here refers to parsers that take a text output from a model try to parse it into a more structured representation.\n",
        "\n",
        " More and more models are supporting **function (or tool) calling**, which handles this automatically.\n",
        "\n",
        " It is recommended to use function/tool calling rather than output parsing"
      ],
      "metadata": {
        "id": "YsKQX2VSXBxR"
      }
    },
    {
      "cell_type": "markdown",
      "metadata": {
        "id": "wLbSg1-uVNWf"
      },
      "source": [
        "# JSON Mode\n",
        "\n",
        "在普通llm调用中，生成的结果没法直接使用在程序中，因为程序一般需要和明确的数据结构交互，而大模型给出的结果往往是非结构化的。\n",
        "\n",
        "> 假设我们有一个获取获取某地天气的方法get_weather，当我们询问北京的天气时，需要让大模型从用户意图中提取出北京，再输出get_weather需要的格式，最后调用get_weather方法。\n",
        "\n",
        "```python\n",
        "def get_weather(params):\n",
        "    # 从字典中提取 location 参数\n",
        "    location = params.get('location')    \n",
        "    return location + \"的天气是晴天\"\n",
        "```"
      ]
    },
    {
      "cell_type": "markdown",
      "source": [
        "OpenAI的JSON模式（JSON Mode）是一种在生成文本时，要求模型输出格式为JSON的特殊模式。\n",
        "\n",
        "这种模式通常用于需要结构化输出的场景，例如需要模型生成特定格式的数据、配置文件、API响应等。\n",
        "\n",
        "1. 结构化输出：在JSON模式下，模型生成的文本必须是有效的JSON格式。这意味着输出将包含**键值对、数组、对象等结构化数据**，而不是自由文本。\n",
        "2. 明确性：由于JSON是一种严格的格式，模型在生成输出时必须遵循**预定义**的结构，这有助于减少歧义，确保输出的内容符合预期。\n",
        "3. 可解析性：**生成的JSON可以直接被解析和处理**，便于后续的**程序化操作**。例如，可以直接将生成的JSON数据加载到**Python的字典或列表**中，进行进一步的处理。"
      ],
      "metadata": {
        "id": "U8hSTWGOVeqN"
      }
    },
    {
      "cell_type": "code",
      "execution_count": 3,
      "metadata": {
        "id": "mBNVvddkVNWh",
        "outputId": "eb8f4819-d5a3-4d7a-fad0-73cd2955fb61",
        "colab": {
          "base_uri": "https://localhost:8080/"
        }
      },
      "outputs": [
        {
          "output_type": "stream",
          "name": "stdout",
          "text": [
            "{'location': '北京'}\n",
            "<class 'dict'>\n",
            "\n",
            "北京的天气是晴天\n"
          ]
        }
      ],
      "source": [
        "from langchain_core.prompts import ChatPromptTemplate\n",
        "from langchain_openai import ChatOpenAI\n",
        "from langchain.output_parsers.json import SimpleJsonOutputParser\n",
        "from google.colab import userdata\n",
        "\n",
        "import os\n",
        "\n",
        "os.environ[\"OPENAI_API_BASE\"] = userdata.get('OPENAI_API_BASE')\n",
        "os.environ[\"OPENAI_API_KEY\"] = userdata.get('OPENAI_API_KEY')\n",
        "\n",
        "def get_weather(params):\n",
        "    # 从字典中提取 location 参数\n",
        "    location = params.get('location')\n",
        "    return location + \"的天气是晴天\"\n",
        "\n",
        "model = ChatOpenAI(\n",
        "    model=\"qwen2.5-72b-instruct\",\n",
        "    model_kwargs={ \"response_format\": { \"type\": \"json_object\" } },\n",
        ")\n",
        "\n",
        "prompt = ChatPromptTemplate.from_template(\n",
        "    \"获取用户问题中提到的城市\"\n",
        "    '你必须始终输出一个包含‘location’键 JSON 对象。'\n",
        "    \"用户问题：{question}\"\n",
        ")\n",
        "\n",
        "chain = prompt | model | SimpleJsonOutputParser()\n",
        "\n",
        "res = chain.invoke({ \"question\": \"北京的天气怎么样\" })\n",
        "\n",
        "print(res)\n",
        "print(type(res))\n",
        "print()\n",
        "print(get_weather(res))\n"
      ]
    },
    {
      "cell_type": "markdown",
      "source": [
        "JsonOutputParser\n",
        "\n",
        "kwargs (Any | None) – Additional keyword arguments to pass to the Runnable.\n",
        "``` python\n",
        "model_kwargs={ \"response_format\": { \"type\": \"json_object\" } },\n",
        "```\n",
        "\n",
        "\n"
      ],
      "metadata": {
        "id": "-zHF2V3yXbGF"
      }
    },
    {
      "cell_type": "markdown",
      "source": [
        "上面的写法，虽然可以实现把用户的输入转化成结构化的数据，但是可以明显看出以下弊端：\n",
        "- 你需要写**大量的提示词**，来描述生成的json包含字段，尽管如此，大模型还是**有概率误解你的意图**，导致生成的**json数据不符合规范**，而且很依赖大模型本身能力。\n",
        "- 对于想要生成**特别复杂的json结构的场景**，提示词也会变得非常庞大，生成的结构也更加不可控。\n",
        "对于上述存在的问题，我们可以使用大模型提供的一个非常棒的能力：function calling。"
      ],
      "metadata": {
        "id": "ZGnmFYxMWrxg"
      }
    }
  ],
  "metadata": {
    "kernelspec": {
      "display_name": "py3110",
      "language": "python",
      "name": "python3"
    },
    "language_info": {
      "codemirror_mode": {
        "name": "ipython",
        "version": 3
      },
      "file_extension": ".py",
      "mimetype": "text/x-python",
      "name": "python",
      "nbconvert_exporter": "python",
      "pygments_lexer": "ipython3",
      "version": "3.11.9"
    },
    "colab": {
      "provenance": []
    }
  },
  "nbformat": 4,
  "nbformat_minor": 0
}
{
  "cells": [
    {
      "cell_type": "code",
      "execution_count": 1,
      "metadata": {
        "id": "qtQglo9mMHPV",
        "outputId": "c6664f4f-cd95-425d-8aad-d179806874e6",
        "colab": {
          "base_uri": "https://localhost:8080/"
        }
      },
      "outputs": [
        {
          "output_type": "stream",
          "name": "stdout",
          "text": [
            "Collecting langchain_openai\n",
            "  Downloading langchain_openai-0.3.18-py3-none-any.whl.metadata (2.3 kB)\n",
            "Requirement already satisfied: langchain in /usr/local/lib/python3.11/dist-packages (0.3.25)\n",
            "Collecting langchain-core<1.0.0,>=0.3.61 (from langchain_openai)\n",
            "  Downloading langchain_core-0.3.63-py3-none-any.whl.metadata (5.8 kB)\n",
            "Requirement already satisfied: openai<2.0.0,>=1.68.2 in /usr/local/lib/python3.11/dist-packages (from langchain_openai) (1.81.0)\n",
            "Requirement already satisfied: tiktoken<1,>=0.7 in /usr/local/lib/python3.11/dist-packages (from langchain_openai) (0.9.0)\n",
            "Requirement already satisfied: langchain-text-splitters<1.0.0,>=0.3.8 in /usr/local/lib/python3.11/dist-packages (from langchain) (0.3.8)\n",
            "Requirement already satisfied: langsmith<0.4,>=0.1.17 in /usr/local/lib/python3.11/dist-packages (from langchain) (0.3.42)\n",
            "Requirement already satisfied: pydantic<3.0.0,>=2.7.4 in /usr/local/lib/python3.11/dist-packages (from langchain) (2.11.4)\n",
            "Requirement already satisfied: SQLAlchemy<3,>=1.4 in /usr/local/lib/python3.11/dist-packages (from langchain) (2.0.41)\n",
            "Requirement already satisfied: requests<3,>=2 in /usr/local/lib/python3.11/dist-packages (from langchain) (2.32.3)\n",
            "Requirement already satisfied: PyYAML>=5.3 in /usr/local/lib/python3.11/dist-packages (from langchain) (6.0.2)\n",
            "Requirement already satisfied: tenacity!=8.4.0,<10.0.0,>=8.1.0 in /usr/local/lib/python3.11/dist-packages (from langchain-core<1.0.0,>=0.3.61->langchain_openai) (9.1.2)\n",
            "Requirement already satisfied: jsonpatch<2.0,>=1.33 in /usr/local/lib/python3.11/dist-packages (from langchain-core<1.0.0,>=0.3.61->langchain_openai) (1.33)\n",
            "Requirement already satisfied: packaging<25,>=23.2 in /usr/local/lib/python3.11/dist-packages (from langchain-core<1.0.0,>=0.3.61->langchain_openai) (24.2)\n",
            "Requirement already satisfied: typing-extensions>=4.7 in /usr/local/lib/python3.11/dist-packages (from langchain-core<1.0.0,>=0.3.61->langchain_openai) (4.13.2)\n",
            "Requirement already satisfied: httpx<1,>=0.23.0 in /usr/local/lib/python3.11/dist-packages (from langsmith<0.4,>=0.1.17->langchain) (0.28.1)\n",
            "Requirement already satisfied: orjson<4.0.0,>=3.9.14 in /usr/local/lib/python3.11/dist-packages (from langsmith<0.4,>=0.1.17->langchain) (3.10.18)\n",
            "Requirement already satisfied: requests-toolbelt<2.0.0,>=1.0.0 in /usr/local/lib/python3.11/dist-packages (from langsmith<0.4,>=0.1.17->langchain) (1.0.0)\n",
            "Requirement already satisfied: zstandard<0.24.0,>=0.23.0 in /usr/local/lib/python3.11/dist-packages (from langsmith<0.4,>=0.1.17->langchain) (0.23.0)\n",
            "Requirement already satisfied: anyio<5,>=3.5.0 in /usr/local/lib/python3.11/dist-packages (from openai<2.0.0,>=1.68.2->langchain_openai) (4.9.0)\n",
            "Requirement already satisfied: distro<2,>=1.7.0 in /usr/local/lib/python3.11/dist-packages (from openai<2.0.0,>=1.68.2->langchain_openai) (1.9.0)\n",
            "Requirement already satisfied: jiter<1,>=0.4.0 in /usr/local/lib/python3.11/dist-packages (from openai<2.0.0,>=1.68.2->langchain_openai) (0.10.0)\n",
            "Requirement already satisfied: sniffio in /usr/local/lib/python3.11/dist-packages (from openai<2.0.0,>=1.68.2->langchain_openai) (1.3.1)\n",
            "Requirement already satisfied: tqdm>4 in /usr/local/lib/python3.11/dist-packages (from openai<2.0.0,>=1.68.2->langchain_openai) (4.67.1)\n",
            "Requirement already satisfied: annotated-types>=0.6.0 in /usr/local/lib/python3.11/dist-packages (from pydantic<3.0.0,>=2.7.4->langchain) (0.7.0)\n",
            "Requirement already satisfied: pydantic-core==2.33.2 in /usr/local/lib/python3.11/dist-packages (from pydantic<3.0.0,>=2.7.4->langchain) (2.33.2)\n",
            "Requirement already satisfied: typing-inspection>=0.4.0 in /usr/local/lib/python3.11/dist-packages (from pydantic<3.0.0,>=2.7.4->langchain) (0.4.1)\n",
            "Requirement already satisfied: charset-normalizer<4,>=2 in /usr/local/lib/python3.11/dist-packages (from requests<3,>=2->langchain) (3.4.2)\n",
            "Requirement already satisfied: idna<4,>=2.5 in /usr/local/lib/python3.11/dist-packages (from requests<3,>=2->langchain) (3.10)\n",
            "Requirement already satisfied: urllib3<3,>=1.21.1 in /usr/local/lib/python3.11/dist-packages (from requests<3,>=2->langchain) (2.4.0)\n",
            "Requirement already satisfied: certifi>=2017.4.17 in /usr/local/lib/python3.11/dist-packages (from requests<3,>=2->langchain) (2025.4.26)\n",
            "Requirement already satisfied: greenlet>=1 in /usr/local/lib/python3.11/dist-packages (from SQLAlchemy<3,>=1.4->langchain) (3.2.2)\n",
            "Requirement already satisfied: regex>=2022.1.18 in /usr/local/lib/python3.11/dist-packages (from tiktoken<1,>=0.7->langchain_openai) (2024.11.6)\n",
            "Requirement already satisfied: httpcore==1.* in /usr/local/lib/python3.11/dist-packages (from httpx<1,>=0.23.0->langsmith<0.4,>=0.1.17->langchain) (1.0.9)\n",
            "Requirement already satisfied: h11>=0.16 in /usr/local/lib/python3.11/dist-packages (from httpcore==1.*->httpx<1,>=0.23.0->langsmith<0.4,>=0.1.17->langchain) (0.16.0)\n",
            "Requirement already satisfied: jsonpointer>=1.9 in /usr/local/lib/python3.11/dist-packages (from jsonpatch<2.0,>=1.33->langchain-core<1.0.0,>=0.3.61->langchain_openai) (3.0.0)\n",
            "Downloading langchain_openai-0.3.18-py3-none-any.whl (63 kB)\n",
            "\u001b[2K   \u001b[90m━━━━━━━━━━━━━━━━━━━━━━━━━━━━━━━━━━━━━━━━\u001b[0m \u001b[32m63.4/63.4 kB\u001b[0m \u001b[31m1.5 MB/s\u001b[0m eta \u001b[36m0:00:00\u001b[0m\n",
            "\u001b[?25hDownloading langchain_core-0.3.63-py3-none-any.whl (438 kB)\n",
            "\u001b[2K   \u001b[90m━━━━━━━━━━━━━━━━━━━━━━━━━━━━━━━━━━━━━━━━\u001b[0m \u001b[32m438.5/438.5 kB\u001b[0m \u001b[31m9.9 MB/s\u001b[0m eta \u001b[36m0:00:00\u001b[0m\n",
            "\u001b[?25hInstalling collected packages: langchain-core, langchain_openai\n",
            "  Attempting uninstall: langchain-core\n",
            "    Found existing installation: langchain-core 0.3.60\n",
            "    Uninstalling langchain-core-0.3.60:\n",
            "      Successfully uninstalled langchain-core-0.3.60\n",
            "Successfully installed langchain-core-0.3.63 langchain_openai-0.3.18\n"
          ]
        }
      ],
      "source": [
        "! pip install langchain_openai langchain -U"
      ]
    },
    {
      "cell_type": "markdown",
      "source": [
        "LangChain 表达式语言 （LCEL） 是一种链接 LangChain 组件的声明性方式。它能够让你以管道（pipe）的形式，线性的调用大模型和处理任务。\n",
        "\n",
        "LCEL详细文档： https://python.langchain.com/v0.2/docs/concepts/#langchain-expression-language-lcel\n",
        "\n",
        "例如我们有一个需求，先调用大模型拿到原始结果 **aiRes**，再获取结果中的字符串内容 **str_parser**。"
      ],
      "metadata": {
        "id": "5GaMXEXSOH4o"
      }
    },
    {
      "cell_type": "code",
      "execution_count": 2,
      "metadata": {
        "id": "KbfJaANhMHPX",
        "outputId": "f08495cb-6cfb-41e0-ed39-d0f6c38a9e4e",
        "colab": {
          "base_uri": "https://localhost:8080/",
          "height": 35
        }
      },
      "outputs": [
        {
          "output_type": "execute_result",
          "data": {
            "text/plain": [
              "'你好！有什么我可以帮助你的吗？'"
            ],
            "application/vnd.google.colaboratory.intrinsic+json": {
              "type": "string"
            }
          },
          "metadata": {},
          "execution_count": 2
        }
      ],
      "source": [
        "from langchain_openai import ChatOpenAI\n",
        "from langchain_core.output_parsers import StrOutputParser\n",
        "from google.colab import userdata\n",
        "\n",
        "import os\n",
        "os.environ[\"OPENAI_API_BASE\"] = userdata.get('OPENAI_API_BASE')\n",
        "os.environ[\"OPENAI_API_KEY\"] = userdata.get('OPENAI_API_KEY')\n",
        "\n",
        "llm = ChatOpenAI(model=\"qwen2.5-72b-instruct\")\n",
        "\n",
        "str_parser = StrOutputParser()\n",
        "\n",
        "aiRes = llm.invoke(\"你好\")\n",
        "\n",
        "res = str_parser.invoke(aiRes)\n",
        "res"
      ]
    },
    {
      "cell_type": "markdown",
      "source": [
        "The content property describes the content of the message. This can be a few different things:\n",
        "\n",
        "\n",
        "*   A string (most models deal with this type of content)\n",
        "*   A List of dictionaries (this is used for multimodal input, where the dictionary contains information about that input type and that input location)"
      ],
      "metadata": {
        "id": "A9lPFy-YRTcf"
      }
    },
    {
      "cell_type": "code",
      "source": [
        "aiRes"
      ],
      "metadata": {
        "id": "1WGUmpaaOWuG",
        "outputId": "f4763008-465e-4441-b011-7921fce30527",
        "colab": {
          "base_uri": "https://localhost:8080/"
        }
      },
      "execution_count": 3,
      "outputs": [
        {
          "output_type": "execute_result",
          "data": {
            "text/plain": [
              "AIMessage(content='你好！有什么我可以帮助你的吗？', additional_kwargs={'refusal': None}, response_metadata={'token_usage': {'completion_tokens': 8, 'prompt_tokens': 9, 'total_tokens': 17, 'completion_tokens_details': None, 'prompt_tokens_details': None}, 'model_name': 'qwen2.5-72b-instruct', 'system_fingerprint': None, 'id': 'chatcmpl-0bd9040a-fb9c-9fa0-a5a0-f2285297fc9d', 'service_tier': None, 'finish_reason': 'stop', 'logprobs': None}, id='run--213ab6b4-9ff9-41e5-9ce6-4cd380316053-0', usage_metadata={'input_tokens': 9, 'output_tokens': 8, 'total_tokens': 17, 'input_token_details': {}, 'output_token_details': {}})"
            ]
          },
          "metadata": {},
          "execution_count": 3
        }
      ]
    },
    {
      "cell_type": "code",
      "source": [
        "res = str_parser.invoke(aiRes)\n",
        "res"
      ],
      "metadata": {
        "id": "zKTib4_5OaXg",
        "outputId": "c4f55e5e-bae4-4b9f-d8cf-b3afa51d2d58",
        "colab": {
          "base_uri": "https://localhost:8080/",
          "height": 35
        }
      },
      "execution_count": 4,
      "outputs": [
        {
          "output_type": "execute_result",
          "data": {
            "text/plain": [
              "'你好！有什么我可以帮助你的吗？'"
            ],
            "application/vnd.google.colaboratory.intrinsic+json": {
              "type": "string"
            }
          },
          "metadata": {},
          "execution_count": 4
        }
      ]
    },
    {
      "cell_type": "markdown",
      "source": [
        "如果我们使用LCEL的形式，我们可以这样做：\n",
        "\n",
        "\n",
        "\n",
        "``` python\n",
        "chain = llm | StrOutputParser()\n",
        "```\n",
        "官网指导文档：\n",
        "https://python.langchain.com/v0.2/docs/concepts/#langchain-expression-language-lcel"
      ],
      "metadata": {
        "id": "ggUxaqWiOdw4"
      }
    },
    {
      "cell_type": "code",
      "execution_count": 6,
      "metadata": {
        "id": "KJU5aVpKMHPb",
        "outputId": "52384f65-0d3c-4288-99c5-802061ca391a",
        "colab": {
          "base_uri": "https://localhost:8080/",
          "height": 35
        }
      },
      "outputs": [
        {
          "output_type": "execute_result",
          "data": {
            "text/plain": [
              "'你好！有什么可以帮助你的吗？'"
            ],
            "application/vnd.google.colaboratory.intrinsic+json": {
              "type": "string"
            }
          },
          "metadata": {},
          "execution_count": 6
        }
      ],
      "source": [
        "from langchain_openai import ChatOpenAI\n",
        "from langchain_core.output_parsers import StrOutputParser\n",
        "from google.colab import userdata\n",
        "\n",
        "import os\n",
        "os.environ[\"OPENAI_API_BASE\"] = userdata.get('OPENAI_API_BASE')\n",
        "os.environ[\"OPENAI_API_KEY\"] = userdata.get('OPENAI_API_KEY')\n",
        "\n",
        "llm = ChatOpenAI(model=\"qwen2.5-72b-instruct\")\n",
        "\n",
        "chain = llm | StrOutputParser()\n",
        "\n",
        "res = chain.invoke(\"你好\")\n",
        "res"
      ]
    },
    {
      "cell_type": "markdown",
      "source": [
        "# Runnable interface\n",
        "为了尽可能轻松地创建自定义链，langchain提供了 “Runnable” 协议。你也应该尽力让链上的每一个方法都是一个Runnable对象。许多 LangChain 组件都实现了 Runnable 协议，包括聊天模型、LLMs、输出解析器、检索器、提示模板等。\n"
      ],
      "metadata": {
        "id": "x8-0nG0uPIi0"
      }
    },
    {
      "cell_type": "markdown",
      "source": [
        "# String PromptTemplate\n",
        "* These prompt templates are used to format **a single string**, and generally are used for simpler inputs.\n",
        "\n",
        "For example, a common way to construct and use a PromptTemplate is as follows:"
      ],
      "metadata": {
        "id": "q5jr_EI2SDVQ"
      }
    },
    {
      "cell_type": "code",
      "source": [
        "from langchain_core.prompts import PromptTemplate\n",
        "\n",
        "prompt_template = PromptTemplate.from_template(\"Tell me a joke about {topic}\")\n",
        "\n",
        "prompt_template.invoke({\"topic\": \"cats\"})"
      ],
      "metadata": {
        "id": "t50EN_DCSC1C",
        "outputId": "5ef4598d-913b-4c0e-e687-28d50dff498e",
        "colab": {
          "base_uri": "https://localhost:8080/"
        }
      },
      "execution_count": 12,
      "outputs": [
        {
          "output_type": "execute_result",
          "data": {
            "text/plain": [
              "StringPromptValue(text='Tell me a joke about cats')"
            ]
          },
          "metadata": {},
          "execution_count": 12
        }
      ]
    },
    {
      "cell_type": "markdown",
      "source": [
        "\n",
        "Prompt Templates take as input a dictionary, where each key represents a variable in the prompt template to fill in.\n",
        "\n",
        "Prompt Templates output a **PromptValue**. This PromptValue can be passed to an LLM or a ChatModel, and can also be cast to a string or a list of messages.\n",
        "\n",
        "The reason this PromptValue exists is to make it easy to switch between strings and messages.\n",
        "```\n",
        "StringPromptValue(text='Tell me a joke about cats')\n",
        "```\n",
        "\n",
        "\n"
      ],
      "metadata": {
        "id": "H6pgVeLVSbkj"
      }
    },
    {
      "cell_type": "markdown",
      "source": [
        "# ChatPromptTemplate"
      ],
      "metadata": {
        "id": "8s4p7CWSSBqw"
      }
    },
    {
      "cell_type": "code",
      "execution_count": 8,
      "metadata": {
        "id": "KkbT57_ZMHPd",
        "outputId": "c25e5f33-5595-4205-f38d-3606fd890ac4",
        "colab": {
          "base_uri": "https://localhost:8080/"
        }
      },
      "outputs": [
        {
          "output_type": "stream",
          "name": "stdout",
          "text": [
            "messages=[SystemMessage(content='你是一个智能助手', additional_kwargs={}, response_metadata={}), HumanMessage(content='告诉我一个笑话，关于 小猫', additional_kwargs={}, response_metadata={})]\n"
          ]
        }
      ],
      "source": [
        "from langchain_core.prompts import ChatPromptTemplate\n",
        "\n",
        "prompt_template = ChatPromptTemplate.from_messages([\n",
        "    (\"system\", \"你是一个智能助手\"),\n",
        "    (\"user\", \"告诉我一个笑话，关于 {topic}\")\n",
        "])\n",
        "\n",
        "template = prompt_template.invoke({\"topic\": \"小猫\"})\n",
        "print(template)\n",
        "\n"
      ]
    },
    {
      "cell_type": "markdown",
      "source": [
        "In the above example, this ChatPromptTemplate will construct two messages when called. The first is a system message, that has no variables to format. The second is a HumanMessage, and will be formatted by the topic variable the user passes in."
      ],
      "metadata": {
        "id": "uEzlPI8_TJu5"
      }
    },
    {
      "cell_type": "markdown",
      "source": [
        "# LLM\n",
        "然后我们调用大模型，运行流程如下：\n",
        "- 调用chain.invoke(\"小鸡\")，先基于小鸡生成了模板[SystemMessage(content='你是一个智能助手'), HumanMessage(content='告诉我一个笑话，关于 小鸡')]\n",
        "- 然后将模板传入大模型llm，获得AIMessage对象\n",
        "- 把AIMessage传给StrOutputParser，生成字符串结果"
      ],
      "metadata": {
        "id": "21-U4YvnP-MG"
      }
    },
    {
      "cell_type": "code",
      "execution_count": 10,
      "metadata": {
        "id": "Pm4pPQCZMHPe",
        "outputId": "afe0790b-8358-46c5-f385-a0569303e9a2",
        "colab": {
          "base_uri": "https://localhost:8080/"
        }
      },
      "outputs": [
        {
          "output_type": "stream",
          "name": "stdout",
          "text": [
            "小鸡为什么跑得那么快？因为有只鹰叫“妈妈”！\n"
          ]
        }
      ],
      "source": [
        "from langchain_openai import ChatOpenAI\n",
        "from langchain_core.output_parsers import StrOutputParser\n",
        "from google.colab import userdata\n",
        "\n",
        "import os\n",
        "os.environ[\"OPENAI_API_BASE\"] = userdata.get('OPENAI_API_BASE')\n",
        "os.environ[\"OPENAI_API_KEY\"] = userdata.get('OPENAI_API_KEY')\n",
        "llm = ChatOpenAI(model=\"qwen2.5-72b-instruct\")\n",
        "\n",
        "chain = prompt_template | llm | StrOutputParser()\n",
        "\n",
        "res = chain.invoke({\"topic\": \"小鸡\"})\n",
        "print(res)\n"
      ]
    },
    {
      "cell_type": "code",
      "execution_count": 11,
      "metadata": {
        "id": "0cEP6iyRMHPg",
        "outputId": "7a44f6ad-efce-4c90-a84d-db149eecef84",
        "colab": {
          "base_uri": "https://localhost:8080/"
        }
      },
      "outputs": [
        {
          "output_type": "stream",
          "name": "stdout",
          "text": [
            "content='这是一个AI消息' additional_kwargs={} response_metadata={}\n",
            "这是一个AI消息\n"
          ]
        }
      ],
      "source": [
        "from langchain.schema import AIMessage\n",
        "from langchain_core.output_parsers import StrOutputParser\n",
        "\n",
        "str_parser = StrOutputParser()\n",
        "\n",
        "ai_message = AIMessage(content=\"这是一个AI消息\")\n",
        "print(ai_message)\n",
        "\n",
        "res = str_parser.invoke(ai_message)\n",
        "print(res)\n"
      ]
    }
  ],
  "metadata": {
    "kernelspec": {
      "display_name": "py3110",
      "language": "python",
      "name": "python3"
    },
    "language_info": {
      "codemirror_mode": {
        "name": "ipython",
        "version": 3
      },
      "file_extension": ".py",
      "mimetype": "text/x-python",
      "name": "python",
      "nbconvert_exporter": "python",
      "pygments_lexer": "ipython3",
      "version": "3.11.9"
    },
    "colab": {
      "provenance": []
    }
  },
  "nbformat": 4,
  "nbformat_minor": 0
}
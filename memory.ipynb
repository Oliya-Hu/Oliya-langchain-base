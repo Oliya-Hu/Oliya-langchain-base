{
  "cells": [
    {
      "cell_type": "code",
      "execution_count": 2,
      "metadata": {
        "id": "HzfWXpOrNimC",
        "outputId": "4756ade1-6bcb-4eb2-b08b-8b9b987b6d03",
        "colab": {
          "base_uri": "https://localhost:8080/"
        }
      },
      "outputs": [
        {
          "output_type": "stream",
          "name": "stdout",
          "text": [
            "Collecting langchain_openai\n",
            "  Downloading langchain_openai-0.3.18-py3-none-any.whl.metadata (2.3 kB)\n",
            "Requirement already satisfied: langchain in /usr/local/lib/python3.11/dist-packages (0.3.25)\n",
            "Collecting langchain-core<1.0.0,>=0.3.61 (from langchain_openai)\n",
            "  Downloading langchain_core-0.3.63-py3-none-any.whl.metadata (5.8 kB)\n",
            "Requirement already satisfied: openai<2.0.0,>=1.68.2 in /usr/local/lib/python3.11/dist-packages (from langchain_openai) (1.81.0)\n",
            "Requirement already satisfied: tiktoken<1,>=0.7 in /usr/local/lib/python3.11/dist-packages (from langchain_openai) (0.9.0)\n",
            "Requirement already satisfied: langchain-text-splitters<1.0.0,>=0.3.8 in /usr/local/lib/python3.11/dist-packages (from langchain) (0.3.8)\n",
            "Requirement already satisfied: langsmith<0.4,>=0.1.17 in /usr/local/lib/python3.11/dist-packages (from langchain) (0.3.42)\n",
            "Requirement already satisfied: pydantic<3.0.0,>=2.7.4 in /usr/local/lib/python3.11/dist-packages (from langchain) (2.11.4)\n",
            "Requirement already satisfied: SQLAlchemy<3,>=1.4 in /usr/local/lib/python3.11/dist-packages (from langchain) (2.0.41)\n",
            "Requirement already satisfied: requests<3,>=2 in /usr/local/lib/python3.11/dist-packages (from langchain) (2.32.3)\n",
            "Requirement already satisfied: PyYAML>=5.3 in /usr/local/lib/python3.11/dist-packages (from langchain) (6.0.2)\n",
            "Requirement already satisfied: tenacity!=8.4.0,<10.0.0,>=8.1.0 in /usr/local/lib/python3.11/dist-packages (from langchain-core<1.0.0,>=0.3.61->langchain_openai) (9.1.2)\n",
            "Requirement already satisfied: jsonpatch<2.0,>=1.33 in /usr/local/lib/python3.11/dist-packages (from langchain-core<1.0.0,>=0.3.61->langchain_openai) (1.33)\n",
            "Requirement already satisfied: packaging<25,>=23.2 in /usr/local/lib/python3.11/dist-packages (from langchain-core<1.0.0,>=0.3.61->langchain_openai) (24.2)\n",
            "Requirement already satisfied: typing-extensions>=4.7 in /usr/local/lib/python3.11/dist-packages (from langchain-core<1.0.0,>=0.3.61->langchain_openai) (4.13.2)\n",
            "Requirement already satisfied: httpx<1,>=0.23.0 in /usr/local/lib/python3.11/dist-packages (from langsmith<0.4,>=0.1.17->langchain) (0.28.1)\n",
            "Requirement already satisfied: orjson<4.0.0,>=3.9.14 in /usr/local/lib/python3.11/dist-packages (from langsmith<0.4,>=0.1.17->langchain) (3.10.18)\n",
            "Requirement already satisfied: requests-toolbelt<2.0.0,>=1.0.0 in /usr/local/lib/python3.11/dist-packages (from langsmith<0.4,>=0.1.17->langchain) (1.0.0)\n",
            "Requirement already satisfied: zstandard<0.24.0,>=0.23.0 in /usr/local/lib/python3.11/dist-packages (from langsmith<0.4,>=0.1.17->langchain) (0.23.0)\n",
            "Requirement already satisfied: anyio<5,>=3.5.0 in /usr/local/lib/python3.11/dist-packages (from openai<2.0.0,>=1.68.2->langchain_openai) (4.9.0)\n",
            "Requirement already satisfied: distro<2,>=1.7.0 in /usr/local/lib/python3.11/dist-packages (from openai<2.0.0,>=1.68.2->langchain_openai) (1.9.0)\n",
            "Requirement already satisfied: jiter<1,>=0.4.0 in /usr/local/lib/python3.11/dist-packages (from openai<2.0.0,>=1.68.2->langchain_openai) (0.10.0)\n",
            "Requirement already satisfied: sniffio in /usr/local/lib/python3.11/dist-packages (from openai<2.0.0,>=1.68.2->langchain_openai) (1.3.1)\n",
            "Requirement already satisfied: tqdm>4 in /usr/local/lib/python3.11/dist-packages (from openai<2.0.0,>=1.68.2->langchain_openai) (4.67.1)\n",
            "Requirement already satisfied: annotated-types>=0.6.0 in /usr/local/lib/python3.11/dist-packages (from pydantic<3.0.0,>=2.7.4->langchain) (0.7.0)\n",
            "Requirement already satisfied: pydantic-core==2.33.2 in /usr/local/lib/python3.11/dist-packages (from pydantic<3.0.0,>=2.7.4->langchain) (2.33.2)\n",
            "Requirement already satisfied: typing-inspection>=0.4.0 in /usr/local/lib/python3.11/dist-packages (from pydantic<3.0.0,>=2.7.4->langchain) (0.4.1)\n",
            "Requirement already satisfied: charset-normalizer<4,>=2 in /usr/local/lib/python3.11/dist-packages (from requests<3,>=2->langchain) (3.4.2)\n",
            "Requirement already satisfied: idna<4,>=2.5 in /usr/local/lib/python3.11/dist-packages (from requests<3,>=2->langchain) (3.10)\n",
            "Requirement already satisfied: urllib3<3,>=1.21.1 in /usr/local/lib/python3.11/dist-packages (from requests<3,>=2->langchain) (2.4.0)\n",
            "Requirement already satisfied: certifi>=2017.4.17 in /usr/local/lib/python3.11/dist-packages (from requests<3,>=2->langchain) (2025.4.26)\n",
            "Requirement already satisfied: greenlet>=1 in /usr/local/lib/python3.11/dist-packages (from SQLAlchemy<3,>=1.4->langchain) (3.2.2)\n",
            "Requirement already satisfied: regex>=2022.1.18 in /usr/local/lib/python3.11/dist-packages (from tiktoken<1,>=0.7->langchain_openai) (2024.11.6)\n",
            "Requirement already satisfied: httpcore==1.* in /usr/local/lib/python3.11/dist-packages (from httpx<1,>=0.23.0->langsmith<0.4,>=0.1.17->langchain) (1.0.9)\n",
            "Requirement already satisfied: h11>=0.16 in /usr/local/lib/python3.11/dist-packages (from httpcore==1.*->httpx<1,>=0.23.0->langsmith<0.4,>=0.1.17->langchain) (0.16.0)\n",
            "Requirement already satisfied: jsonpointer>=1.9 in /usr/local/lib/python3.11/dist-packages (from jsonpatch<2.0,>=1.33->langchain-core<1.0.0,>=0.3.61->langchain_openai) (3.0.0)\n",
            "Downloading langchain_openai-0.3.18-py3-none-any.whl (63 kB)\n",
            "\u001b[2K   \u001b[90m━━━━━━━━━━━━━━━━━━━━━━━━━━━━━━━━━━━━━━━━\u001b[0m \u001b[32m63.4/63.4 kB\u001b[0m \u001b[31m4.3 MB/s\u001b[0m eta \u001b[36m0:00:00\u001b[0m\n",
            "\u001b[?25hDownloading langchain_core-0.3.63-py3-none-any.whl (438 kB)\n",
            "\u001b[2K   \u001b[90m━━━━━━━━━━━━━━━━━━━━━━━━━━━━━━━━━━━━━━━━\u001b[0m \u001b[32m438.5/438.5 kB\u001b[0m \u001b[31m20.2 MB/s\u001b[0m eta \u001b[36m0:00:00\u001b[0m\n",
            "\u001b[?25hInstalling collected packages: langchain-core, langchain_openai\n",
            "  Attempting uninstall: langchain-core\n",
            "    Found existing installation: langchain-core 0.3.60\n",
            "    Uninstalling langchain-core-0.3.60:\n",
            "      Successfully uninstalled langchain-core-0.3.60\n",
            "Successfully installed langchain-core-0.3.63 langchain_openai-0.3.18\n"
          ]
        }
      ],
      "source": [
        "! pip install langchain_openai langchain -U"
      ]
    },
    {
      "cell_type": "markdown",
      "metadata": {
        "id": "hORPkpg8NimD"
      },
      "source": [
        "### llm本身是没有记忆的\n",
        "\n",
        "我们通过例子直观体验"
      ]
    },
    {
      "cell_type": "code",
      "execution_count": 3,
      "metadata": {
        "id": "jM55IgfONimE",
        "outputId": "8465a886-2b7e-4215-986b-5e2d67460ad9",
        "colab": {
          "base_uri": "https://localhost:8080/"
        }
      },
      "outputs": [
        {
          "output_type": "stream",
          "name": "stdout",
          "text": [
            "content='你好！当然可以。选择Python学习书籍时，可以根据你的基础和兴趣来挑选。这里给你推荐几本不同层次的书籍：\\n\\n1. **《Python编程：从入门到实践》** - Eric Matthes\\n   - 这本书非常适合初学者，内容由浅入深，不仅介绍了Python的基本语法，还有实际项目练习，帮助你将所学知识应用到实践中。\\n\\n2. **《Python基础教程》** - Magnus Lie Hetland\\n   - 适合有一定编程经验的人士阅读。这本书不仅涵盖了Python的基础知识，还涉及了更高级的主题，如网络编程、数据库操作等。\\n\\n3. **《流畅的Python》** - Luciano Ramalho\\n   - 如果你已经掌握了Python的基础，并希望进一步提高代码质量，这本书是个不错的选择。书中通过大量的实例讲解了如何写出更加Pythonic的代码。\\n\\n4. **《Python Cookbook》** - David Beazley, Brian K. Jones\\n   - 面向中高级Python开发者，提供了大量实用的编程技巧和最佳实践，对于解决具体问题非常有帮助。\\n\\n5. **《自动化运维之Python实战》** - 张帆\\n   - 如果你对使用Python进行系统管理和自动化运维感兴趣，这本书是一个很好的起点。它结合了大量的实际案例，教你如何利用Python解决工作中的问题。\\n\\n根据你的需求选择合适的书籍，祝你学习顺利！如果你有更具体的方向或兴趣点，也可以告诉我，我会提供更加针对性的建议。' additional_kwargs={'refusal': None} response_metadata={'token_usage': {'completion_tokens': 310, 'prompt_tokens': 20, 'total_tokens': 330, 'completion_tokens_details': None, 'prompt_tokens_details': None}, 'model_name': 'qwen2.5-72b-instruct', 'system_fingerprint': None, 'id': 'chatcmpl-f2c1a851-1c3f-9168-93e7-2bc64c79245e', 'service_tier': None, 'finish_reason': 'stop', 'logprobs': None} id='run--4707f7bd-ef03-41b6-b194-a070a97045d9-0' usage_metadata={'input_tokens': 20, 'output_tokens': 310, 'total_tokens': 330, 'input_token_details': {}, 'output_token_details': {}}\n",
            "====================\n",
            "content='您能告诉我具体是哪一本书吗？这样我可以更准确地为您提供信息和评价。' additional_kwargs={'refusal': None} response_metadata={'token_usage': {'completion_tokens': 19, 'prompt_tokens': 11, 'total_tokens': 30, 'completion_tokens_details': None, 'prompt_tokens_details': None}, 'model_name': 'qwen2.5-72b-instruct', 'system_fingerprint': None, 'id': 'chatcmpl-e99a33c5-4693-9534-834f-b55d279fbdef', 'service_tier': None, 'finish_reason': 'stop', 'logprobs': None} id='run--02026cf7-188e-4343-a6da-9736648f762a-0' usage_metadata={'input_tokens': 11, 'output_tokens': 19, 'total_tokens': 30, 'input_token_details': {}, 'output_token_details': {}}\n"
          ]
        }
      ],
      "source": [
        "from langchain_openai import ChatOpenAI\n",
        "from langchain.schema import HumanMessage\n",
        "from google.colab import userdata\n",
        "\n",
        "import os\n",
        "\n",
        "os.environ[\"OPENAI_API_BASE\"] = userdata.get('OPENAI_API_BASE')\n",
        "os.environ[\"OPENAI_API_KEY\"] = userdata.get('OPENAI_API_KEY')\n",
        "\n",
        "llm = ChatOpenAI(model=\"qwen2.5-72b-instruct\", temperature=0)\n",
        "\n",
        "response1 = llm.invoke([\n",
        "  HumanMessage(content=\"你好，能给我推荐一本学习Python的书吗？\")\n",
        "])\n",
        "\n",
        "response2 = llm.invoke([\n",
        "  HumanMessage(content=\"这本书怎么样？\")\n",
        "])\n",
        "\n",
        "print(response1)\n",
        "print(\"====================\")\n",
        "print(response2)\n"
      ]
    },
    {
      "cell_type": "markdown",
      "metadata": {
        "id": "MmXFqNBfNimE"
      },
      "source": [
        "### 让LLM拥有记忆\n",
        "\n",
        "首先，我们通过简单的方法，将首次咨询大模型的结果，在第二次咨询时一并传递给大模型。这样，当我们询问这本书怎么样时，其便能理解我们的提问，并基于历史记录作出回答。"
      ]
    },
    {
      "cell_type": "code",
      "execution_count": 5,
      "metadata": {
        "id": "wD-uEsAmNimE",
        "outputId": "bb92b0ad-3c48-41e7-a85e-31110bb72818",
        "colab": {
          "base_uri": "https://localhost:8080/"
        }
      },
      "outputs": [
        {
          "output_type": "stream",
          "name": "stdout",
          "text": [
            "content='你好！当然可以。选择Python的学习书籍可以根据你的基础和需求来定。这里给你几个不同层次的推荐：\\n\\n1. **《Python编程：从入门到实践》（作者：埃里克·马瑟斯）** - 这本书非常适合初学者，它不仅介绍了Python的基础知识，还通过实际项目帮助读者加深理解，比如开发Web应用、数据可视化等。\\n\\n2. **《Python Crash Course》（作者：Eric Matthes）** - 这是一本英文书籍，适合有一定英语阅读能力的初学者。这本书同样注重实践，通过一系列小项目让读者快速上手Python编程。\\n\\n3. **《流畅的Python》（作者：Luciano Ramalho）** - 如果你已经掌握了Python的基础，并希望进一步提升，这本书是一个很好的选择。它深入探讨了Python的一些高级特性，如迭代器、生成器、装饰器等。\\n\\n4. **《PythonCookbook》（作者：David Beazley & Brian K. Jones）** - 面向中级到高级程序员，这本书提供了大量的代码示例，涵盖了从数据结构到元编程等多个方面，是提高编程技巧的好帮手。\\n\\n根据你的实际情况选择合适的书籍开始学习吧！如果你有更具体的需求或目标，也可以告诉我，我会给出更加针对性的建议。祝你学习顺利！' additional_kwargs={'refusal': None} response_metadata={'token_usage': {'completion_tokens': 277, 'prompt_tokens': 20, 'total_tokens': 297, 'completion_tokens_details': None, 'prompt_tokens_details': None}, 'model_name': 'qwen2.5-72b-instruct', 'system_fingerprint': None, 'id': 'chatcmpl-802057d8-6c0e-9797-b12f-4c3d63d62979', 'service_tier': None, 'finish_reason': 'stop', 'logprobs': None} id='run--ef5649c3-116f-4c1f-a398-3fbf98b3b86c-0' usage_metadata={'input_tokens': 20, 'output_tokens': 277, 'total_tokens': 297, 'input_token_details': {}, 'output_token_details': {}}\n",
            "====================\n",
            "content='你提到的“这本书”没有具体指明是哪一本，不过我可以根据前面推荐的几本书再做些补充说明，帮助你更好地了解它们的特点：\\n\\n1. **《Python编程：从入门到实践》**\\n   - **特点**：内容全面，从基础语法讲起，逐步过渡到项目实战，适合完全的编程新手。\\n   - **优点**：语言通俗易懂，实例丰富，有助于巩固所学知识。\\n   - **适用人群**：适合Python初学者，特别是对编程没有太多经验的人。\\n\\n2. **《Python Crash Course》**\\n   - **特点**：英文原版，节奏较快，适合有一定英语基础的学习者。\\n   - **优点**：通过实际项目引导学习，包括游戏开发、数据可视化等，使学习过程不枯燥。\\n   - **适用人群**：适合有一定英语水平的初学者，希望通过项目实践快速掌握Python。\\n\\n3. **《流畅的Python》**\\n   - **特点**：深入讲解Python的高级特性，强调编写高效、优雅的代码。\\n   - **优点**：内容深入，适合已经掌握Python基础知识的读者。\\n   - **适用人群**：适合中高级Python开发者，希望提升代码质量和性能。\\n\\n4. **《Python Cookbook》**\\n   - **特点**：提供大量实用的代码示例和解决方案，涵盖广泛的主题。\\n   - **优点**：内容丰富，实用性强，适合解决实际编程中的问题。\\n   - **适用人群**：适合有一定编程经验的开发者，尤其是需要解决具体问题的中级到高级用户。\\n\\n如果你能具体说明一下你感兴趣的是哪一本书，或者你目前的学习阶段和目标，我可以提供更详细的建议。希望这些信息对你有所帮助！' additional_kwargs={'refusal': None} response_metadata={'token_usage': {'completion_tokens': 361, 'prompt_tokens': 310, 'total_tokens': 671, 'completion_tokens_details': None, 'prompt_tokens_details': None}, 'model_name': 'qwen2.5-72b-instruct', 'system_fingerprint': None, 'id': 'chatcmpl-bf915b19-5b59-98f2-b7a7-d6fde6ffcff8', 'service_tier': None, 'finish_reason': 'stop', 'logprobs': None} id='run--3732cf18-5353-4db2-b8a2-7f20de4f0870-0' usage_metadata={'input_tokens': 310, 'output_tokens': 361, 'total_tokens': 671, 'input_token_details': {}, 'output_token_details': {}}\n"
          ]
        }
      ],
      "source": [
        "from langchain_openai import ChatOpenAI\n",
        "from langchain.schema import HumanMessage, AIMessage\n",
        "from google.colab import userdata\n",
        "\n",
        "import os\n",
        "\n",
        "os.environ[\"OPENAI_API_BASE\"] = userdata.get('OPENAI_API_BASE')\n",
        "os.environ[\"OPENAI_API_KEY\"] = userdata.get('OPENAI_API_KEY')\n",
        "\n",
        "llm = ChatOpenAI(model=\"qwen2.5-72b-instruct\", temperature=0)\n",
        "\n",
        "response1 = llm.invoke([\n",
        "  HumanMessage(content=\"你好，能给我推荐一本学习Python的书吗？\")\n",
        "])\n",
        "\n",
        "response2 = llm.invoke([\n",
        "  HumanMessage(content=\"你好，能给我推荐一本学习Python的书吗？\"),\n",
        "  AIMessage(content=response1.content),\n",
        "  HumanMessage(content=\"这本书怎么样？\")\n",
        "])\n",
        "\n",
        "print(response1)\n",
        "print(\"====================\")\n",
        "print(response2)"
      ]
    },
    {
      "cell_type": "markdown",
      "metadata": {
        "id": "O5oVct07NimF"
      },
      "source": [
        "### langchain内置的记忆存储方法\n",
        "\n",
        "可以使用`ConversationBufferMemory`来实现记忆，不过这种方式记忆清理，多用户等不是很好控制，所以不常用。"
      ]
    },
    {
      "cell_type": "code",
      "execution_count": 6,
      "metadata": {
        "id": "q79MgmmfNimF",
        "outputId": "f6149ba5-8133-4c9c-b862-c9779d5d595e",
        "colab": {
          "base_uri": "https://localhost:8080/"
        }
      },
      "outputs": [
        {
          "output_type": "stream",
          "name": "stderr",
          "text": [
            "<ipython-input-6-a1f5f996369b>:12: LangChainDeprecationWarning: Please see the migration guide at: https://python.langchain.com/docs/versions/migrating_memory/\n",
            "  memory = ConversationBufferMemory()\n",
            "<ipython-input-6-a1f5f996369b>:13: LangChainDeprecationWarning: The class `ConversationChain` was deprecated in LangChain 0.2.7 and will be removed in 1.0. Use :meth:`~RunnableWithMessageHistory: https://python.langchain.com/v0.2/api_reference/core/runnables/langchain_core.runnables.history.RunnableWithMessageHistory.html` instead.\n",
            "  conversation = ConversationChain(llm=chat, memory=memory)\n"
          ]
        },
        {
          "output_type": "stream",
          "name": "stdout",
          "text": [
            "你好！当然可以。如果你是初学者，我强烈推荐《Python编程：从入门到实践》（\"Python Programming: An Introduction to Computer Science\"）。这本书非常适合Python新手，它不仅介绍了Python的基础知识，还通过实际项目帮助你练习和巩固所学的内容。\n",
            "\n",
            "如果你已经有了一些编程基础，并且想更深入地了解Python，可以考虑《流畅的Python》（\"Fluent Python\"）这本书。这本书由Luciano Ramalho撰写，深入浅出地讲解了Python的一些高级特性，比如迭代器、描述符、装饰器等，非常适合希望提高Python技能的读者。\n",
            "\n",
            "希望这些建议对你有帮助！你对Python编程有什么特别的兴趣点吗？比如Web开发、数据科学或机器学习等，这样我可以提供更加针对性的建议。\n",
            "====================\n",
            "你指的是哪一本书呢？是《Python编程：从入门到实践》还是《流畅的Python》？两本书各有特色，适合不同水平的读者。如果你能具体说明一下你的需求或者当前的学习阶段，我可以给你更详细的评价和建议。例如，你是完全的新手，还是有一定编程经验想要进阶？你对Python的兴趣点是什么？这些信息可以帮助我更好地为你服务。\n"
          ]
        }
      ],
      "source": [
        "from langchain.chains import ConversationChain\n",
        "from langchain.memory import ConversationBufferMemory\n",
        "from langchain_openai import ChatOpenAI\n",
        "from google.colab import userdata\n",
        "\n",
        "import os\n",
        "\n",
        "os.environ[\"OPENAI_API_BASE\"] = userdata.get('OPENAI_API_BASE')\n",
        "os.environ[\"OPENAI_API_KEY\"] = userdata.get('OPENAI_API_KEY')\n",
        "\n",
        "chat = ChatOpenAI(model=\"qwen2.5-72b-instruct\", temperature=0)\n",
        "memory = ConversationBufferMemory()\n",
        "conversation = ConversationChain(llm=chat, memory=memory)\n",
        "\n",
        "response1 = conversation.predict(input=\"你好，能给我推荐一本学习Python的书吗？\")\n",
        "response2 = conversation.predict(input=\"这本书怎么样？\")\n",
        "\n",
        "print(response1)\n",
        "print(\"====================\")\n",
        "print(response2)"
      ]
    }
  ],
  "metadata": {
    "kernelspec": {
      "display_name": "py3110",
      "language": "python",
      "name": "python3"
    },
    "language_info": {
      "codemirror_mode": {
        "name": "ipython",
        "version": 3
      },
      "file_extension": ".py",
      "mimetype": "text/x-python",
      "name": "python",
      "nbconvert_exporter": "python",
      "pygments_lexer": "ipython3",
      "version": "3.11.9"
    },
    "colab": {
      "provenance": []
    }
  },
  "nbformat": 4,
  "nbformat_minor": 0
}